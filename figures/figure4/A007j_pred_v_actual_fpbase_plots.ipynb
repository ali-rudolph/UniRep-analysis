{
 "cells": [
  {
   "cell_type": "code",
   "execution_count": 1,
   "metadata": {},
   "outputs": [],
   "source": [
    "import sys\n",
    "import os\n",
    "import pickle\n",
    "import random\n",
    "import copy\n",
    "\n",
    "from Bio import SeqIO\n",
    "import numpy as np\n",
    "import pandas as pd\n",
    "import matplotlib.pyplot as plt\n",
    "import seaborn as sns\n",
    "from scipy.stats import spearmanr\n",
    "from scipy.stats import pearsonr\n",
    "from sklearn.preprocessing import StandardScaler\n",
    "from MulticoreTSNE import MulticoreTSNE as TSNE\n",
    "from matplotlib.colors import ListedColormap\n",
    "\n",
    "from sklearn.linear_model import LinearRegression\n",
    "from sklearn.decomposition import PCA\n",
    "\n",
    "import plot_style_utils\n",
    "\n",
    "%reload_ext autoreload\n",
    "%autoreload 2\n",
    "\n",
    "sns.reset_defaults()\n",
    "\n",
    "\n",
    "np.random.seed(1)\n",
    "random.seed(1)"
   ]
  },
  {
   "cell_type": "code",
   "execution_count": 2,
   "metadata": {},
   "outputs": [],
   "source": [
    "!aws s3 sync --no-sign-request s3://unirep-public/fig4/ ./fig4/"
   ]
  },
  {
   "cell_type": "code",
   "execution_count": 3,
   "metadata": {},
   "outputs": [
    {
     "data": {
      "text/html": [
       "<div>\n",
       "<table border=\"1\" class=\"dataframe\">\n",
       "  <thead>\n",
       "    <tr style=\"text-align: right;\">\n",
       "      <th></th>\n",
       "      <th>name</th>\n",
       "      <th>seq</th>\n",
       "    </tr>\n",
       "  </thead>\n",
       "  <tbody>\n",
       "    <tr>\n",
       "      <th>0</th>\n",
       "      <td>W1C</td>\n",
       "      <td>MASKGEELFTGVVPILVELDGDVNGHKFSVSGEGEGDATYGKLTLK...</td>\n",
       "    </tr>\n",
       "    <tr>\n",
       "      <th>1</th>\n",
       "      <td>GFP-151pyTyrCu</td>\n",
       "      <td>MSKGAELFTGVVPILVELDGDVNGHKFSVSGEGEGDATYGKLTLKF...</td>\n",
       "    </tr>\n",
       "    <tr>\n",
       "      <th>2</th>\n",
       "      <td>GFP-Tyr151pyz</td>\n",
       "      <td>MSKGEALFTGVVPILVELDGDVNGHKFSVSGEGEGDATYGKLTLKF...</td>\n",
       "    </tr>\n",
       "    <tr>\n",
       "      <th>3</th>\n",
       "      <td>P4-1</td>\n",
       "      <td>MASKGEELFTGVVPILVELDGDVNGHKFSVSGEGEGDATYGKLTLK...</td>\n",
       "    </tr>\n",
       "    <tr>\n",
       "      <th>7</th>\n",
       "      <td>cpCitrine</td>\n",
       "      <td>MVSKGEELFTGVVPILVELDGDVNGHKFSVSGEGEGDATYGKLTLK...</td>\n",
       "    </tr>\n",
       "  </tbody>\n",
       "</table>\n",
       "</div>"
      ],
      "text/plain": [
       "             name                                                seq\n",
       "0             W1C  MASKGEELFTGVVPILVELDGDVNGHKFSVSGEGEGDATYGKLTLK...\n",
       "1  GFP-151pyTyrCu  MSKGAELFTGVVPILVELDGDVNGHKFSVSGEGEGDATYGKLTLKF...\n",
       "2   GFP-Tyr151pyz  MSKGEALFTGVVPILVELDGDVNGHKFSVSGEGEGDATYGKLTLKF...\n",
       "3            P4-1  MASKGEELFTGVVPILVELDGDVNGHKFSVSGEGEGDATYGKLTLK...\n",
       "7       cpCitrine  MVSKGEELFTGVVPILVELDGDVNGHKFSVSGEGEGDATYGKLTLK..."
      ]
     },
     "metadata": {},
     "output_type": "display_data"
    }
   ],
   "source": [
    "DROP_EVOTUNE_DUPLICATES=True\n",
    "\n",
    "if DROP_EVOTUNE_DUPLICATES:\n",
    "    DUP_DF = pd.read_csv('fig4/Fig5_Aequorea_GFPs_not_in_evotrain_actual.csv', \n",
    "            index_col=0)\n",
    "    display(DUP_DF.head()) # Keep these sequences in the generalization set."
   ]
  },
  {
   "cell_type": "markdown",
   "metadata": {},
   "source": [
    "### Plotting context"
   ]
  },
  {
   "cell_type": "code",
   "execution_count": 4,
   "metadata": {},
   "outputs": [
    {
     "data": {
      "image/png": "[encoded data removed]",
      "text/plain": [
       "<Figure size 648x72 with 1 Axes>"
      ]
     },
     "metadata": {},
     "output_type": "display_data"
    }
   ],
   "source": [
    "plot_style_utils.set_pub_plot_context(context=\"talk\", colors=\"sequential\")\n",
    "seq_colors = sns.color_palette()\n",
    "MPL_CMAP = ListedColormap(sns.color_palette().as_hex())\n",
    "\n",
    "\n",
    "AXMIN = -0.5\n",
    "AXMAX = 1.4\n",
    "CLIM = [0, 21]\n",
    "\n",
    "sns.palplot(sns.color_palette())\n",
    "plt.show()"
   ]
  },
  {
   "cell_type": "markdown",
   "metadata": {},
   "source": [
    "## Empirical distribution for Sarkisyan avGFP"
   ]
  },
  {
   "cell_type": "code",
   "execution_count": 5,
   "metadata": {},
   "outputs": [
    {
     "name": "stderr",
     "output_type": "stream",
     "text": [
      "/home/ubuntu/GitHub/UniRep-analysis/venv/lib/python3.5/site-packages/matplotlib/font_manager.py:1241: UserWarning: findfont: Font family ['Arial'] not found. Falling back to DejaVu Sans.\n",
      "  (prop.get_family(), self.defaultFamily[fontext]))\n"
     ]
    },
    {
     "data": {
      "image/png": "[encoded data removed]",
      "text/plain": [
       "<Figure size 432x288 with 1 Axes>"
      ]
     },
     "metadata": {},
     "output_type": "display_data"
    },
    {
     "data": {
      "image/png": "[encoded data removed]",
      "text/plain": [
       "<Figure size 432x288 with 1 Axes>"
      ]
     },
     "metadata": {},
     "output_type": "display_data"
    }
   ],
   "source": [
    "EXAMPLE_SARK_BF_TTS_SPLIT = np.load('fig4/gfp_avg_hidden_sark_bf_fixed_rep_tts.npz')\n",
    "empirical_avGFP_brightnesses = EXAMPLE_SARK_BF_TTS_SPLIT['Y_train']\n",
    "empirical_avGFP_brightnesses = np.concatenate((empirical_avGFP_brightnesses, np.array([AXMIN, AXMAX])))\n",
    "EMPIRICAL_THRESHOLD = 0.4\n",
    "\n",
    "plt.figure()\n",
    "sns.kdeplot(empirical_avGFP_brightnesses, bw=0.05, color='k', shade=True, gridsize=1000)\n",
    "plt.axvline(EMPIRICAL_THRESHOLD, ls='--', color='k')\n",
    "plt.xlim(AXMIN, AXMAX)\n",
    "#plt.axis('off')\n",
    "plt.show()\n",
    "\n",
    "fig = plt.figure()\n",
    "sns.kdeplot(empirical_avGFP_brightnesses, bw=0.05, color='k', shade=True, gridsize=1000)\n",
    "plt.axvline(EMPIRICAL_THRESHOLD, ls='--', color='k', linewidth=2)\n",
    "plt.xlim(AXMIN, AXMAX)\n",
    "plt.axis('off')\n",
    "plt.show()\n",
    "\n",
    "plot_style_utils.save_for_pub(fig, path='fig4/sarkisyan_empirical_dist', dpi=300)"
   ]
  },
  {
   "cell_type": "markdown",
   "metadata": {},
   "source": [
    "## Predicted v actual plots for FPbase sequences."
   ]
  },
  {
   "cell_type": "code",
   "execution_count": 6,
   "metadata": {},
   "outputs": [],
   "source": [
    "def levenshtein_distance(aln_seq1, aln_seq2):\n",
    "    assert len(aln_seq1) == len(aln_seq2)\n",
    "    d = 0\n",
    "    \n",
    "    aln_seq1 = list(aln_seq1)\n",
    "    aln_seq2 = list(aln_seq2)\n",
    "    \n",
    "    for i in range(len(aln_seq1)):\n",
    "        if aln_seq1[i] != aln_seq2[i]:\n",
    "            d += 1\n",
    "            \n",
    "    return d\n",
    "    \n",
    "def levenshtein_distance_matrix(aligned_seqs):\n",
    "    \n",
    "    D = np.zeros((len(aligned_seqs), len(aligned_seqs)))\n",
    "    for i in range(len(aligned_seqs)):\n",
    "        for j in range(i+1,len(aligned_seqs)):\n",
    "            D[i,j] = levenshtein_distance(aligned_seqs[i], aligned_seqs[j])\n",
    "            D[j,i] = levenshtein_distance(aligned_seqs[i], aligned_seqs[j])\n",
    "    \n",
    "    return D"
   ]
  },
  {
   "cell_type": "code",
   "execution_count": 7,
   "metadata": {},
   "outputs": [],
   "source": [
    "REPS = ['pbab', 'random1', 'finetune1']\n",
    "REPNAMES = ['UniRep', 'Random init.', 'Evotuned UniRep']\n",
    "def pred_jitter_data_for_reps():\n",
    "    \n",
    "    rep2repname = {}\n",
    "    for i,r in enumerate(REPS):\n",
    "        rep2repname[r] = REPNAMES[i]\n",
    "        \n",
    "    nmuts = []\n",
    "    pred_bright = []\n",
    "    rep_names = []\n",
    "    is_neg = []\n",
    "    for representation in REPS:\n",
    "    \n",
    "        # Aggregated mutant data\n",
    "        NEG_MUT_NUM = 6.0\n",
    "        NEG_MUT_DOWNSAMPLE = 1000\n",
    "        agg_mutant_df = pd.read_csv(os.path.join('fig4', representation + '.csv'))\n",
    "        agg_mutant_df_neg = agg_mutant_df[agg_mutant_df['num_mutations'] == NEG_MUT_NUM].reset_index()\n",
    "        agg_mutant_df = agg_mutant_df[agg_mutant_df['num_mutations'] == 0.0]\n",
    "        \n",
    "        # Downsample negative mutants\n",
    "        pidx = np.random.permutation(agg_mutant_df_neg.shape[0])\n",
    "        agg_mutant_df_neg = agg_mutant_df_neg.iloc[pidx[:NEG_MUT_DOWNSAMPLE]]\n",
    "        \n",
    "        agg_mutant_df_neg.shape\n",
    "        # Link it with fpbase metadata, including aligned sequences so we can calculat # mutations\n",
    "        # relative to avGFP.\n",
    "        fpbase_metadata_file = os.path.join('fig4', \n",
    "                '20181011_fp_database_length_filtered_outliers_filtered_internal_sfGFP_avGFP_alignment_manual_protein_tag_removal_Met_added_metadata.txt'\n",
    "        )\n",
    "        fpbase_md_df = pd.read_csv(fpbase_metadata_file)\n",
    "        fpbase_md_df.rename(columns={'name': 'parent'}, inplace=True)\n",
    "        \n",
    "        agg_mutant_md_df = pd.merge(agg_mutant_df, fpbase_md_df, on='parent', how='left')\n",
    "        \n",
    "        if DROP_EVOTUNE_DUPLICATES:\n",
    "            ids_to_keep = list(DUP_DF['name']) + ['avGFP_internal', 'sfGFP_internal']\n",
    "            fpbase_md_df = fpbase_md_df[fpbase_md_df['parent'].apply(lambda x: x in ids_to_keep)]\n",
    "            agg_mutant_md_df = agg_mutant_md_df[agg_mutant_md_df['parent'].apply(lambda x: x in ids_to_keep)]\n",
    "            \n",
    "\n",
    "        avGFP_idx = int(np.argwhere(agg_mutant_md_df['parent'] == 'avGFP_internal'))\n",
    "        ld_mat = levenshtein_distance_matrix(list(agg_mutant_md_df['aln_seq']))\n",
    "        NMUTS_REL_AVGFP = ld_mat[avGFP_idx]\n",
    "        \n",
    "        nmuts += list(NMUTS_REL_AVGFP)\n",
    "        nmuts += [np.nan]*agg_mutant_df_neg.shape[0]\n",
    "        pred_bright += list(agg_mutant_md_df['pred_brightness'])\n",
    "        pred_bright += list(agg_mutant_df_neg['pred_brightness'])\n",
    "        is_neg += list(list(np.zeros(len(NMUTS_REL_AVGFP)).astype(bool)))\n",
    "        is_neg += list(list(np.ones(agg_mutant_df_neg.shape[0]).astype(bool)))\n",
    "        rep_names += ([rep2repname[representation]]*len(NMUTS_REL_AVGFP) + \n",
    "                      [rep2repname[representation]]*agg_mutant_df_neg.shape[0])\n",
    "        \n",
    "    \n",
    "    df = pd.DataFrame()\n",
    "    df['rep_names'] = rep_names\n",
    "    df['pred_brightness'] = pred_bright\n",
    "    df['nmuts'] = nmuts\n",
    "    df['is_neg'] = is_neg\n",
    "    \n",
    "    return df, agg_mutant_df\n",
    "\n",
    "        \n"
   ]
  },
  {
   "cell_type": "code",
   "execution_count": 8,
   "metadata": {},
   "outputs": [],
   "source": [
    "jitter_df, agg_mutant_df = pred_jitter_data_for_reps()"
   ]
  },
  {
   "cell_type": "code",
   "execution_count": 9,
   "metadata": {},
   "outputs": [
    {
     "name": "stdout",
     "output_type": "stream",
     "text": [
      "(3084, 4)\n"
     ]
    },
    {
     "data": {
      "text/html": [
       "<div>\n",
       "<table border=\"1\" class=\"dataframe\">\n",
       "  <thead>\n",
       "    <tr style=\"text-align: right;\">\n",
       "      <th></th>\n",
       "      <th>rep_names</th>\n",
       "      <th>pred_brightness</th>\n",
       "      <th>nmuts</th>\n",
       "      <th>is_neg</th>\n",
       "    </tr>\n",
       "  </thead>\n",
       "  <tbody>\n",
       "    <tr>\n",
       "      <th>0</th>\n",
       "      <td>UniRep</td>\n",
       "      <td>0.533365</td>\n",
       "      <td>10.0</td>\n",
       "      <td>False</td>\n",
       "    </tr>\n",
       "    <tr>\n",
       "      <th>1</th>\n",
       "      <td>UniRep</td>\n",
       "      <td>0.482491</td>\n",
       "      <td>12.0</td>\n",
       "      <td>False</td>\n",
       "    </tr>\n",
       "    <tr>\n",
       "      <th>2</th>\n",
       "      <td>UniRep</td>\n",
       "      <td>0.652281</td>\n",
       "      <td>5.0</td>\n",
       "      <td>False</td>\n",
       "    </tr>\n",
       "    <tr>\n",
       "      <th>3</th>\n",
       "      <td>UniRep</td>\n",
       "      <td>0.678116</td>\n",
       "      <td>7.0</td>\n",
       "      <td>False</td>\n",
       "    </tr>\n",
       "    <tr>\n",
       "      <th>4</th>\n",
       "      <td>UniRep</td>\n",
       "      <td>0.356180</td>\n",
       "      <td>11.0</td>\n",
       "      <td>False</td>\n",
       "    </tr>\n",
       "  </tbody>\n",
       "</table>\n",
       "</div>"
      ],
      "text/plain": [
       "  rep_names  pred_brightness  nmuts is_neg\n",
       "0    UniRep         0.533365   10.0  False\n",
       "1    UniRep         0.482491   12.0  False\n",
       "2    UniRep         0.652281    5.0  False\n",
       "3    UniRep         0.678116    7.0  False\n",
       "4    UniRep         0.356180   11.0  False"
      ]
     },
     "metadata": {},
     "output_type": "display_data"
    }
   ],
   "source": [
    "print(jitter_df.shape)\n",
    "display(jitter_df.head())"
   ]
  },
  {
   "cell_type": "code",
   "execution_count": 10,
   "metadata": {
    "scrolled": true
   },
   "outputs": [
    {
     "data": {
      "image/png": "[encoded data removed]",
      "text/plain": [
       "<Figure size 432x288 with 2 Axes>"
      ]
     },
     "metadata": {},
     "output_type": "display_data"
    }
   ],
   "source": [
    "np.random.seed(1)\n",
    "random.seed(1)\n",
    "\n",
    "fig = plt.figure(figsize=plot_style_utils.STANDARD_FIG_SIZE)\n",
    "plt.axhline(EMPIRICAL_THRESHOLD, ls='--', color='k')\n",
    "plt.gca().axhspan(EMPIRICAL_THRESHOLD, AXMAX, alpha=0.1, color='green')\n",
    "plt.gca().axhspan(AXMIN, EMPIRICAL_THRESHOLD, alpha=0.1, color='grey')\n",
    "\n",
    "for i,rn in enumerate(REPNAMES):\n",
    "    mask = np.logical_and(jitter_df['rep_names'] == rn, ~jitter_df['is_neg'])\n",
    "    neg_mask = np.logical_and(jitter_df['rep_names'] == rn, jitter_df['is_neg'])\n",
    "    \n",
    "    x = 0.25*(np.random.rand(int(np.sum(mask)))-0.5) + i\n",
    "    x_neg = 0.25*(np.random.rand(int(np.sum(~mask)))-0.5) + i\n",
    "    \n",
    "    bp = plt.boxplot(jitter_df['pred_brightness'][~mask], positions=[i+0.12], whis=0.7, patch_artist=True)\n",
    "    for patch in bp['boxes']:\n",
    "        patch.set(facecolor=[0.7, 0.7, 0.7])   \n",
    "    for element in ['whiskers', 'fliers', 'means', 'medians', 'caps']:\n",
    "        plt.setp(bp[element], color='k')\n",
    "    \n",
    "    plt.scatter(x-0.18, jitter_df['pred_brightness'][mask], c=jitter_df['nmuts'][mask],\n",
    "                edgecolor='k', linewidth=1, cmap=MPL_CMAP, s=40, zorder=5)\n",
    "    #plt.boxplot(jitter_df['pred_brightness'][mask], positions=[i], whis=1.0)\n",
    "    \n",
    "    \n",
    "plt.ylim(AXMIN, AXMAX)\n",
    "plt.xlim(-0.5, 2.5)\n",
    "cbar = plt.colorbar(ticks=np.arange(0,21,5))\n",
    "plt.xticks([0,1,2])\n",
    "plt.gca().set_xticklabels(['UniRep', 'Evotuned\\nRandom', 'Evotuned\\nUniRep'])\n",
    "plt.clim(CLIM)\n",
    "\n",
    "plot_style_utils.save_for_pub(fig, \n",
    "        path='fig4/predicted_brightness_jitter_dedup-' + str(DROP_EVOTUNE_DUPLICATES), \n",
    "        dpi=300)"
   ]
  }
 ],
 "metadata": {
  "kernelspec": {
   "display_name": "Python 3",
   "language": "python",
   "name": "python3"
  },
  "language_info": {
   "codemirror_mode": {
    "name": "ipython",
    "version": 3
   },
   "file_extension": ".py",
   "mimetype": "text/x-python",
   "name": "python",
   "nbconvert_exporter": "python",
   "pygments_lexer": "ipython3",
   "version": "3.5.2"
  }
 },
 "nbformat": 4,
 "nbformat_minor": 2
}
